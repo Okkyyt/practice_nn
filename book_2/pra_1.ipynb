{
 "cells": [
  {
   "cell_type": "code",
   "execution_count": 2,
   "metadata": {},
   "outputs": [
    {
     "name": "stdout",
     "output_type": "stream",
     "text": [
      "tensor([1, 2, 3, 4, 5]) <class 'torch.Tensor'>\n",
      "tensor([[1., 2., 3.],\n",
      "        [4., 5., 6.]], dtype=torch.float64) <class 'torch.Tensor'>\n"
     ]
    }
   ],
   "source": [
    "import torch\n",
    "\n",
    "a = torch.tensor([1, 2, 3, 4, 5])\n",
    "print(a, type(a))\n",
    "\n",
    "b = torch.tensor([[1, 2, 3], [4, 5, 6]], dtype=torch.float64)\n",
    "print(b, type(b))"
   ]
  },
  {
   "cell_type": "code",
   "execution_count": 22,
   "metadata": {},
   "outputs": [
    {
     "name": "stdout",
     "output_type": "stream",
     "text": [
      "tensor([0, 2, 4, 6, 8])\n",
      "tensor([[0., 0., 0.],\n",
      "        [0., 0., 0.],\n",
      "        [0., 0., 0.]])\n",
      "tensor([[0.8630, 0.8551, 0.6843],\n",
      "        [0.4447, 0.5660, 0.8132]])\n",
      "torch.Size([2, 3])\n"
     ]
    }
   ],
   "source": [
    "d = torch.arange(0, 10, 2)\n",
    "print(d)\n",
    "\n",
    "e = torch.zeros(3, 3)\n",
    "print(e)\n",
    "\n",
    "f = torch.rand(2, 3)\n",
    "print(f)\n",
    "print(f.size())"
   ]
  },
  {
   "cell_type": "code",
   "execution_count": 23,
   "metadata": {},
   "outputs": [
    {
     "name": "stdout",
     "output_type": "stream",
     "text": [
      "tensor([-5.0000, -3.8889, -2.7778, -1.6667, -0.5556,  0.5556,  1.6667,  2.7778,\n",
      "         3.8889,  5.0000])\n"
     ]
    }
   ],
   "source": [
    "g = torch.linspace(-5, 5, 10)\n",
    "print(g)"
   ]
  },
  {
   "cell_type": "code",
   "execution_count": 26,
   "metadata": {},
   "outputs": [
    {
     "name": "stdout",
     "output_type": "stream",
     "text": [
      "[[1 2]\n",
      " [3 4]] <class 'numpy.ndarray'>\n",
      "tensor([[1, 2],\n",
      "        [3, 4]]) <class 'torch.Tensor'>\n"
     ]
    }
   ],
   "source": [
    "a = torch.tensor([[1, 2], [3, 4]])\n",
    "\n",
    "b = a.numpy()\n",
    "print(b, type(b))\n",
    "\n",
    "c = torch.from_numpy(b)\n",
    "print(c, type(c))"
   ]
  },
  {
   "cell_type": "code",
   "execution_count": 31,
   "metadata": {},
   "outputs": [
    {
     "name": "stdout",
     "output_type": "stream",
     "text": [
      "tensor([ 0,  1,  2,  3,  4,  5,  6,  7,  8,  9, 10, 11])\n",
      "tensor([[ 0,  1,  2,  3],\n",
      "        [ 4,  5,  6,  7],\n",
      "        [ 8,  9, 10, 11]])\n",
      "tensor([[ 0,  1,  2,  3,  4,  5],\n",
      "        [ 6,  7,  8,  9, 10, 11]])\n",
      "tensor([ 0,  1,  2,  3,  4,  5,  6,  7,  8,  9, 10, 11])\n"
     ]
    }
   ],
   "source": [
    "#torch.view() is used to reshape the tensor\n",
    "a = torch.arange(0, 12)\n",
    "print(a)\n",
    "b = a.view(3, 4)\n",
    "print(b)\n",
    "c = a.view(2, -1)\n",
    "print(c)\n",
    "# 1次元に変換\n",
    "f = a.view(-1)\n",
    "print(f)"
   ]
  },
  {
   "cell_type": "code",
   "execution_count": 36,
   "metadata": {},
   "outputs": [
    {
     "name": "stdout",
     "output_type": "stream",
     "text": [
      "tensor([[[[0, 1, 2, 3]],\n",
      "\n",
      "         [[4, 5, 6, 7]]]])\n",
      "tensor([[0, 1, 2, 3],\n",
      "        [4, 5, 6, 7]])\n",
      "tensor([[0, 1, 2, 3],\n",
      "        [4, 5, 6, 7]])\n",
      "tensor([[[0],\n",
      "         [1],\n",
      "         [2],\n",
      "         [3]],\n",
      "\n",
      "        [[4],\n",
      "         [5],\n",
      "         [6],\n",
      "         [7]]])\n"
     ]
    }
   ],
   "source": [
    "g = torch.arange(0, 8).view(1, 2, 1, 4)\n",
    "print(g)\n",
    "\n",
    "h = g.squeeze()\n",
    "print(h)\n",
    "\n",
    "i = torch.arange(0, 8).view(2, -1)\n",
    "print(i)\n",
    "\n",
    "j = i.unsqueeze(2)\n",
    "print(j)"
   ]
  }
 ],
 "metadata": {
  "kernelspec": {
   "display_name": "Python 3",
   "language": "python",
   "name": "python3"
  },
  "language_info": {
   "codemirror_mode": {
    "name": "ipython",
    "version": 3
   },
   "file_extension": ".py",
   "mimetype": "text/x-python",
   "name": "python",
   "nbconvert_exporter": "python",
   "pygments_lexer": "ipython3",
   "version": "3.11.3"
  }
 },
 "nbformat": 4,
 "nbformat_minor": 2
}
